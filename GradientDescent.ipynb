{
 "cells": [
  {
   "cell_type": "code",
   "execution_count": 2,
   "id": "53de7750",
   "metadata": {},
   "outputs": [],
   "source": [
    "import numpy as np"
   ]
  },
  {
   "cell_type": "code",
   "execution_count": 28,
   "id": "a44808f9",
   "metadata": {},
   "outputs": [],
   "source": [
    "def step_gradient(points,learning_rate,m,c):\n",
    "    m_slope=0\n",
    "    c_slope=0\n",
    "    n=len(points)\n",
    "    for i in range(n):\n",
    "        x=points[i,0]\n",
    "        y=points[i,1]\n",
    "        \n",
    "        m_slope+=(-2/n)*(y-m*x-c)*x\n",
    "        c_slope+=(-2/n)*(y-m*x-c)\n",
    "    new_m=m-learning_rate*m_slope\n",
    "    new_c= c-learning_rate*c_slope\n",
    "    return new_m,new_c\n",
    "    "
   ]
  },
  {
   "cell_type": "code",
   "execution_count": 29,
   "id": "85acf107",
   "metadata": {},
   "outputs": [],
   "source": [
    "def gd(points,learning_rate,num_iteration):\n",
    "    m=0\n",
    "    c=0\n",
    "    for i in range(num_iteration):\n",
    "        m,c=step_gradient(points,learning_rate,m,c)\n",
    "        print(i,\"cost\",cost(points,m,c))\n",
    "    return m,c"
   ]
  },
  {
   "cell_type": "code",
   "execution_count": 30,
   "id": "b63acc6b",
   "metadata": {},
   "outputs": [],
   "source": [
    "def cost(points,m,c):\n",
    "    total_cost=0\n",
    "    n=len(points)\n",
    "    for i in range(n):\n",
    "        x=points[i,0]\n",
    "        y=points[i,1]\n",
    "        total_cost+=(1/n)*((y-m*x-c)**2)\n",
    "    return total_cost\n",
    "    "
   ]
  }
 ],
 "metadata": {
  "kernelspec": {
   "display_name": "Python 3 (ipykernel)",
   "language": "python",
   "name": "python3"
  },
  "language_info": {
   "codemirror_mode": {
    "name": "ipython",
    "version": 3
   },
   "file_extension": ".py",
   "mimetype": "text/x-python",
   "name": "python",
   "nbconvert_exporter": "python",
   "pygments_lexer": "ipython3",
   "version": "3.10.11"
  }
 },
 "nbformat": 4,
 "nbformat_minor": 5
}
