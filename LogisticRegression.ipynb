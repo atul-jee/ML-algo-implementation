{
 "cells": [
  {
   "cell_type": "code",
   "execution_count": 1,
   "id": "635f8c29",
   "metadata": {},
   "outputs": [],
   "source": [
    "import numpy as np\n",
    "def sigmoid(x):\n",
    "    return 1/(1+np.exp(-x))"
   ]
  },
  {
   "cell_type": "code",
   "execution_count": 2,
   "id": "f5d4ed2c",
   "metadata": {},
   "outputs": [],
   "source": [
    "\n",
    "class LogisticRegression():\n",
    "    def __init__(self,lr=0.001,n_iters=1000):\n",
    "        self.lr=lr\n",
    "        self.n_iters=n_iters\n",
    "        self.weights=None\n",
    "        self.bias=None\n",
    "    def fit(self,x,y):\n",
    "        n_samples,n_features=x.shape\n",
    "        self.weights=np.zeros(n_features)\n",
    "        self.bias=0\n",
    "        for _ in range(self.n_iters):\n",
    "            linear_pred=np.dot(x,self.weight)+self.bias\n",
    "            predictions=sigmoid(linear_pred)\n",
    "            dw=(1/n_samples)*np.dot(x.T,preditctions-y)\n",
    "            db=(1/n_samples)*np.sum(preditcions-y)\n",
    "            self.weights=self.weights-self.lr*dw\n",
    "            self.bias=self.bias-self.lr*dw\n",
    "    def predict(self,x):\n",
    "        linear_pred=np.dot(x,self.weights)+self.bias\n",
    "        y_pred=sigoid(linear_pred)\n",
    "        class_pred=[0 if y<= 0.5 else 1 for y in y_pred]\n",
    "        return class_pred"
   ]
  }
 ],
 "metadata": {
  "kernelspec": {
   "display_name": "Python 3 (ipykernel)",
   "language": "python",
   "name": "python3"
  },
  "language_info": {
   "codemirror_mode": {
    "name": "ipython",
    "version": 3
   },
   "file_extension": ".py",
   "mimetype": "text/x-python",
   "name": "python",
   "nbconvert_exporter": "python",
   "pygments_lexer": "ipython3",
   "version": "3.10.11"
  }
 },
 "nbformat": 4,
 "nbformat_minor": 5
}
