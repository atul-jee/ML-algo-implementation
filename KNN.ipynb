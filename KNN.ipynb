{
 "cells": [
  {
   "cell_type": "code",
   "execution_count": 6,
   "id": "e0be00c4",
   "metadata": {},
   "outputs": [],
   "source": [
    "import numpy as np\n",
    "from collections import Counter\n",
    "def euclidean_distance(x1,x2):\n",
    "    dist=(np.sum((1-x2)**2))\n",
    "    return dist\n",
    "    \n",
    "class knn:\n",
    "    def __init__(self,k=3):\n",
    "        self.k=k\n",
    "    def fit(self,x,y):\n",
    "        self.x_train=x\n",
    "        self.y_train=y\n",
    "        \n",
    "    def predict(sel,x):\n",
    "        predictions=[self._predict(x) for ele in x]\n",
    "        return predictions\n",
    "    def _predict(self,x):\n",
    "        distances=[euclidean_distance(x,x_train) for x_train in self.x_train]\n",
    "        k_ind=np.argsort(distances)[:self.k]\n",
    "        k_nearest_neigbhour=[self.y_train[i] for i in k_indices]\n",
    "        common=Counter(k_nearest_neigbhour).most_common()\n",
    "        return common"
   ]
  },
  {
   "cell_type": "code",
   "execution_count": null,
   "id": "78088260",
   "metadata": {},
   "outputs": [],
   "source": []
  }
 ],
 "metadata": {
  "kernelspec": {
   "display_name": "Python 3 (ipykernel)",
   "language": "python",
   "name": "python3"
  },
  "language_info": {
   "codemirror_mode": {
    "name": "ipython",
    "version": 3
   },
   "file_extension": ".py",
   "mimetype": "text/x-python",
   "name": "python",
   "nbconvert_exporter": "python",
   "pygments_lexer": "ipython3",
   "version": "3.10.11"
  }
 },
 "nbformat": 4,
 "nbformat_minor": 5
}
